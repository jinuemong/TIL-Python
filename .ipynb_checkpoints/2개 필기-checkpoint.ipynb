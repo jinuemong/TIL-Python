{
 "cells": [
  {
   "cell_type": "markdown",
   "id": "ff591b90",
   "metadata": {},
   "source": [
    "### [Python] 자료형 별 시간 복잡도 정리 1!!\n",
    "\n",
    "https://www.ics.uci.edu/~pattis/ICS-33/lectures/complexitypython.txt"
   ]
  },
  {
   "cell_type": "markdown",
   "id": "68c082c6",
   "metadata": {},
   "source": [
    "### [python] deque 사용하기\n",
    "\n",
    "- 양방향 queue로 사용 가능 \n"
   ]
  },
  {
   "cell_type": "code",
   "execution_count": 1,
   "id": "e94f821f",
   "metadata": {},
   "outputs": [],
   "source": [
    "from collections import deque\n",
    "n = 10\n",
    "arr = deque([i for i in range(1,n+1)])\n",
    "\n",
    "def goLeft():\n",
    "    arr.append(arr.popleft())\n",
    "\n",
    "def goRight():\n",
    "    arr.appendleft(arr.pop())\n",
    "\n",
    "def fisrtPop():\n",
    "    arr.popleft()"
   ]
  },
  {
   "cell_type": "code",
   "execution_count": null,
   "id": "7c45944e",
   "metadata": {},
   "outputs": [],
   "source": []
  }
 ],
 "metadata": {
  "kernelspec": {
   "display_name": "Python 3 (ipykernel)",
   "language": "python",
   "name": "python3"
  },
  "language_info": {
   "codemirror_mode": {
    "name": "ipython",
    "version": 3
   },
   "file_extension": ".py",
   "mimetype": "text/x-python",
   "name": "python",
   "nbconvert_exporter": "python",
   "pygments_lexer": "ipython3",
   "version": "3.9.12"
  }
 },
 "nbformat": 4,
 "nbformat_minor": 5
}
