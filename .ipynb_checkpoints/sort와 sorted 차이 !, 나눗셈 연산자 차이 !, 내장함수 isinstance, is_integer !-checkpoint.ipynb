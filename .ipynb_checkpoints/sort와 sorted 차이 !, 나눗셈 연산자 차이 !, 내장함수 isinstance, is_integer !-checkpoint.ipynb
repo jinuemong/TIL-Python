{
 "cells": [
  {
   "cell_type": "markdown",
   "id": "e2e83022",
   "metadata": {},
   "source": [
    "### [Python]  sort와 sorted 차이 ! \n",
    "\n",
    "- list를 변경 : sort() \n",
    "- 새로 정렬된 리스트 생성 : sorted()\n",
    "\n",
    "- 중요 ! sort()는 오직 list에서만 사용 가능 (다른 이터레이터는 불가능)\n",
    "- 코딩 할 때 은근 실수하기 쉬움 -외우기"
   ]
  },
  {
   "cell_type": "markdown",
   "id": "baedd5c6",
   "metadata": {},
   "source": [
    "### [Python] 연산자 '/' 와 '//' 차이 !\n",
    "\n",
    " - /는 나눗셈 : float\n",
    " - //는 나눗셈 : int"
   ]
  },
  {
   "cell_type": "markdown",
   "id": "f0a84fc3",
   "metadata": {},
   "source": [
    "#### [Python] 내장함수 isinstance, is_integer !\n",
    "\n",
    "- isinstance() : 숫자가 정수 또는 부동 소수점 유형인지 여부 결정\n",
    "- 사용 방법 : isinstance(object, type)\n",
    "\n",
    "- is_integer() : float 유형 숫자가 정수인지 판별\n",
    "- 사용 방법 : float.is_integer()"
   ]
  },
  {
   "cell_type": "code",
   "execution_count": null,
   "id": "6a9bd002",
   "metadata": {},
   "outputs": [],
   "source": []
  }
 ],
 "metadata": {
  "kernelspec": {
   "display_name": "Python 3 (ipykernel)",
   "language": "python",
   "name": "python3"
  },
  "language_info": {
   "codemirror_mode": {
    "name": "ipython",
    "version": 3
   },
   "file_extension": ".py",
   "mimetype": "text/x-python",
   "name": "python",
   "nbconvert_exporter": "python",
   "pygments_lexer": "ipython3",
   "version": "3.9.12"
  }
 },
 "nbformat": 4,
 "nbformat_minor": 5
}
