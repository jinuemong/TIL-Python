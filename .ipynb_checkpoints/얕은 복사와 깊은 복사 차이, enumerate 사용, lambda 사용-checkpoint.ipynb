{
 "cells": [
  {
   "cell_type": "markdown",
   "id": "abc7977d",
   "metadata": {},
   "source": [
    "### [Python] 얕은 복사와 깊은 복사 차이\n",
    "\n",
    "- 얕은 복사의 경우 b= a인 경우 b 변경 시 a도 변경됨\n",
    "- 깊은 복사의 경우 b= a인 경우 b 변경 시 a에 영향을 끼치지 않음 \n",
    "\n",
    "- 간단하게 설명하면 깊은 복사는 생성, 얕은 복사는 참조"
   ]
  },
  {
   "cell_type": "markdown",
   "id": "abbd4bff",
   "metadata": {},
   "source": [
    "### [Python] enumerate 사용\n",
    "\n",
    "- 인덱스와 원소를 동시에 접근하는 방법\n"
   ]
  },
  {
   "cell_type": "code",
   "execution_count": 1,
   "id": "a3ec81f9",
   "metadata": {},
   "outputs": [
    {
     "name": "stdout",
     "output_type": "stream",
     "text": [
      "(0, 'a')\n",
      "(1, 'b')\n",
      "(2, 'c')\n"
     ]
    }
   ],
   "source": [
    "for i in enumerate([\"a\",\"b\",\"c\"]):\n",
    "    print(i)"
   ]
  },
  {
   "cell_type": "code",
   "execution_count": 2,
   "id": "d452c8ef",
   "metadata": {},
   "outputs": [
    {
     "name": "stdout",
     "output_type": "stream",
     "text": [
      "[('a', 0), ('b', 1), ('c', 2)]\n"
     ]
    }
   ],
   "source": [
    "n_list = [\"a\",\"b\",\"c\"]\n",
    "n_list = [(i,index) for index,i in enumerate(n_list)]\n",
    "print(n_list)"
   ]
  },
  {
   "cell_type": "markdown",
   "id": "4ce2bfa8",
   "metadata": {},
   "source": [
    "### [Python] lambda 사용\n",
    "- 비선언 함수\n"
   ]
  },
  {
   "cell_type": "code",
   "execution_count": 3,
   "id": "c58d13f9",
   "metadata": {},
   "outputs": [
    {
     "name": "stdout",
     "output_type": "stream",
     "text": [
      "3\n"
     ]
    }
   ],
   "source": [
    "n_list = [[0,1],[1,2],[3,4]]\n",
    "max_num = max(n_list,key=lambda x:x[0])[0]\n",
    "print(max_num)"
   ]
  },
  {
   "cell_type": "code",
   "execution_count": 4,
   "id": "b8da94e9",
   "metadata": {},
   "outputs": [
    {
     "data": {
      "text/plain": [
       "11"
      ]
     },
     "execution_count": 4,
     "metadata": {},
     "output_type": "execute_result"
    }
   ],
   "source": [
    "plus_ten = lambda x: x + 10\n",
    "plus_ten(1)"
   ]
  },
  {
   "cell_type": "code",
   "execution_count": 5,
   "id": "468eca38",
   "metadata": {},
   "outputs": [
    {
     "data": {
      "text/plain": [
       "11"
      ]
     },
     "execution_count": 5,
     "metadata": {},
     "output_type": "execute_result"
    }
   ],
   "source": [
    "plus_ten = lambda x: x + 10\n",
    "plus_ten(1)"
   ]
  },
  {
   "cell_type": "code",
   "execution_count": null,
   "id": "4664aad2",
   "metadata": {},
   "outputs": [],
   "source": []
  }
 ],
 "metadata": {
  "kernelspec": {
   "display_name": "Python 3 (ipykernel)",
   "language": "python",
   "name": "python3"
  },
  "language_info": {
   "codemirror_mode": {
    "name": "ipython",
    "version": 3
   },
   "file_extension": ".py",
   "mimetype": "text/x-python",
   "name": "python",
   "nbconvert_exporter": "python",
   "pygments_lexer": "ipython3",
   "version": "3.9.12"
  }
 },
 "nbformat": 4,
 "nbformat_minor": 5
}
