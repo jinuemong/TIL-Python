{
 "cells": [
  {
   "cell_type": "markdown",
   "id": "28434aeb",
   "metadata": {},
   "source": [
    "### [python] 실수를 올림/ 내림 하는 함수 ceil, floor\n",
    "\n",
    "- math.ceil() : 실수를 올림 하여 정수를 반환\n",
    "- math.floor() : 실수를 내림하여 정수를 반환\n",
    "- 두 함수 모두 math 모듈을 import 해야함\n",
    "- import math\n",
    "- 천장과 바닥을 생각하면 쉽다!\n"
   ]
  },
  {
   "cell_type": "markdown",
   "id": "de153309",
   "metadata": {},
   "source": [
    "### [python] 문자열 특정 문자 빠르게 변경하는 방법\n",
    "- n 번째 문자 X로 변경\n",
    "answer = answer[:n]+\"X\"+answer[n:]"
   ]
  },
  {
   "cell_type": "markdown",
   "id": "17e2ab32",
   "metadata": {},
   "source": [
    "### [python] 링크드 리스트 구현\n"
   ]
  },
  {
   "cell_type": "code",
   "execution_count": 2,
   "id": "f9be0ff6",
   "metadata": {},
   "outputs": [],
   "source": [
    "class Node:\n",
    "    def __init__(self, data):\n",
    "        self.data = data\n",
    "        self.next = None"
   ]
  },
  {
   "cell_type": "code",
   "execution_count": 2,
   "id": "df6c081a",
   "metadata": {},
   "outputs": [],
   "source": [
    "class Node:\n",
    "    def __init__(self, data):\n",
    "        self.data = data\n",
    "        self.next = None"
   ]
  },
  {
   "cell_type": "code",
   "execution_count": 1,
   "id": "7ae8069b",
   "metadata": {},
   "outputs": [],
   "source": [
    "\n",
    "# 인덱스로 노드 값 얻기\n",
    "\n",
    "def get_node(self,index):\n",
    "    cnt = 0\n",
    "    node = self.head\n",
    "    while cnt<index:\n",
    "        cnt+=1\n",
    "        node=node.next\n",
    "    return node"
   ]
  },
  {
   "cell_type": "code",
   "execution_count": 2,
   "id": "a0b89a81",
   "metadata": {},
   "outputs": [],
   "source": [
    "# 삽입\n",
    "\n",
    "def add_node(slef,index,value):\n",
    "    new_node = Node(value)\n",
    "    # 맨 위에 삽입\n",
    "    if index ==0:\n",
    "        new_node.next = self.head\n",
    "        self.head = new_node\n",
    "        return \n",
    "    node = self.get_node(index-1) #들어갈 자리의 이전 노드\n",
    "    next_node = node.next #이전 노드의 다음을 저장 \n",
    "    node.next = new_node #이전 노드의 다음으로 삽입\n",
    "    new_node.next = next_node #삽입된 노드의 다음으로 이전 노드의 다음 저장\n",
    "    "
   ]
  },
  {
   "cell_type": "code",
   "execution_count": 3,
   "id": "ed9ea9c8",
   "metadata": {},
   "outputs": [],
   "source": [
    "# 삭제\n",
    "\n",
    "def del_node(self,index):\n",
    "    if index==0:\n",
    "        self.head = self.head.next\n",
    "        return\n",
    "    node = self.get_node(index-1)\n",
    "    node.next = node.next.next\n",
    "    #삭제 이전의 노드는 다다음 노드를 선택"
   ]
  },
  {
   "cell_type": "code",
   "execution_count": null,
   "id": "1525f15b",
   "metadata": {},
   "outputs": [],
   "source": []
  }
 ],
 "metadata": {
  "kernelspec": {
   "display_name": "Python 3 (ipykernel)",
   "language": "python",
   "name": "python3"
  },
  "language_info": {
   "codemirror_mode": {
    "name": "ipython",
    "version": 3
   },
   "file_extension": ".py",
   "mimetype": "text/x-python",
   "name": "python",
   "nbconvert_exporter": "python",
   "pygments_lexer": "ipython3",
   "version": "3.9.12"
  }
 },
 "nbformat": 4,
 "nbformat_minor": 5
}
