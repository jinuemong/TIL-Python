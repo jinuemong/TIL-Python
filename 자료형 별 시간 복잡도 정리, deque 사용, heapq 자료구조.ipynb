{
 "cells": [
  {
   "cell_type": "markdown",
   "id": "ff591b90",
   "metadata": {},
   "source": [
    "### [Python] 자료형 별 시간 복잡도 정리 1!!\n",
    "\n",
    "https://www.ics.uci.edu/~pattis/ICS-33/lectures/complexitypython.txt"
   ]
  },
  {
   "cell_type": "markdown",
   "id": "68c082c6",
   "metadata": {},
   "source": [
    "### [python] deque 사용하기\n",
    "\n",
    "- 양방향 queue로 사용 가능 \n"
   ]
  },
  {
   "cell_type": "markdown",
   "id": "fd204a6f",
   "metadata": {},
   "source": [
    "from collections import deque\n",
    "n = 10\n",
    "arr = deque([i for i in range(1,n+1)])\n",
    "\n",
    "def goLeft():\n",
    "    arr.append(arr.popleft())\n",
    "\n",
    "def goRight():\n",
    "    arr.appendleft(arr.pop())\n",
    "\n",
    "def fisrtPop():\n",
    "    arr.popleft()"
   ]
  },
  {
   "cell_type": "markdown",
   "id": "fdc91de7",
   "metadata": {},
   "source": [
    "### 힙 자료구조 \n",
    "\n",
    "- heapq는 이진 트리 기반의 최소 힙 자료구조를 제공\n",
    "- 가장 작은 원소가 언제나 인덱스 0 -> 이진 트리의 루트에 위치\n",
    "- 원소가 항상 정렬된 상태로 추가, 삭제 됨 "
   ]
  },
  {
   "cell_type": "markdown",
   "id": "ba645885",
   "metadata": {},
   "source": [
    "from heapq import heappush, heappop //, ..."
   ]
  },
  {
   "cell_type": "markdown",
   "id": "cb646ded",
   "metadata": {},
   "source": [
    "- 빈 리스트를 생성해놓은 다음 heapq 모듈의 함수를 호출할 때마다\n",
    "- 이 리스트를 인자로 넘겨야함. \n",
    "- heapq 모듈을 통해서 원소를 추가하거나 삭제한 리스트가 최소 힙\n"
   ]
  },
  {
   "cell_type": "code",
   "execution_count": 3,
   "id": "d94c4bf4",
   "metadata": {},
   "outputs": [],
   "source": [
    "heap = []"
   ]
  },
  {
   "cell_type": "markdown",
   "id": "030bf0fe",
   "metadata": {},
   "source": [
    "위의 heap을 통해서 원소를 추가하거나 삭제  heap 자료구조를 \n",
    "구현하기 위한 껍데기"
   ]
  },
  {
   "cell_type": "markdown",
   "id": "7ec35eb3",
   "metadata": {},
   "source": [
    "### 힙에 원소 추가\n"
   ]
  },
  {
   "cell_type": "code",
   "execution_count": 4,
   "id": "0cd328a9",
   "metadata": {},
   "outputs": [
    {
     "name": "stdout",
     "output_type": "stream",
     "text": [
      "[1, 3, 7, 4]\n"
     ]
    }
   ],
   "source": [
    "from heapq import heappush\n",
    "\n",
    "heappush(heap, 4)\n",
    "heappush(heap, 1)\n",
    "heappush(heap, 7)\n",
    "heappush(heap, 3)\n",
    "print(heap)"
   ]
  },
  {
   "cell_type": "markdown",
   "id": "9f6294b2",
   "metadata": {},
   "source": [
    "### 힙 원소 삭제 \n"
   ]
  },
  {
   "cell_type": "code",
   "execution_count": 5,
   "id": "8606eba1",
   "metadata": {},
   "outputs": [
    {
     "name": "stdout",
     "output_type": "stream",
     "text": [
      "1\n",
      "[3, 4, 7]\n"
     ]
    }
   ],
   "source": [
    "from heapq import heappop\n",
    "\n",
    "print(heappop(heap))\n",
    "print(heap)"
   ]
  },
  {
   "cell_type": "markdown",
   "id": "997e1954",
   "metadata": {},
   "source": [
    "가장 작은 원소를 우선으로 삭제\n"
   ]
  },
  {
   "cell_type": "markdown",
   "id": "4c52506f",
   "metadata": {},
   "source": [
    "#### 루트 값 삭제하지 않고 출력"
   ]
  },
  {
   "cell_type": "code",
   "execution_count": 6,
   "id": "bedd6116",
   "metadata": {},
   "outputs": [
    {
     "name": "stdout",
     "output_type": "stream",
     "text": [
      "3\n"
     ]
    }
   ],
   "source": [
    "print(heap[0])"
   ]
  },
  {
   "cell_type": "markdown",
   "id": "9e11e6f9",
   "metadata": {},
   "source": [
    "### 기존 리스트를 힙으로 변환\n",
    "\n",
    "- 이미 원소가 들어있는 리스트를 힙으로 변환\n",
    "- 다른 힙 구조에 맞게 재배치 , 최소값이 0번째 인덱스에 위치\n",
    "- O(n)의 시간 복잡도를 가지게 됨"
   ]
  },
  {
   "cell_type": "code",
   "execution_count": 7,
   "id": "95008d5a",
   "metadata": {},
   "outputs": [
    {
     "name": "stdout",
     "output_type": "stream",
     "text": [
      "[1, 3, 5, 4, 8, 7]\n"
     ]
    }
   ],
   "source": [
    "from heapq import heapify\n",
    "\n",
    "heap = [4, 1, 7, 3, 8, 5]\n",
    "heapify(heap)\n",
    "print(heap)"
   ]
  },
  {
   "cell_type": "markdown",
   "id": "66acc708",
   "metadata": {},
   "source": [
    "### 최대 힙으로 변환\n",
    "\n",
    "- 최소 힙인 heapq의 우선순위를 거꾸로 넣어줌\n",
    "- (-n, n)으로 넣어주면 -n 값을 기준으로 최소 힙을 구성함\n",
    "- 이를 n 값을 기준으로 출력하면 역수의 최소값인 최대값이 출력됨\n"
   ]
  },
  {
   "cell_type": "code",
   "execution_count": 8,
   "id": "36638689",
   "metadata": {},
   "outputs": [
    {
     "name": "stdout",
     "output_type": "stream",
     "text": [
      "8\n",
      "7\n",
      "5\n",
      "4\n",
      "3\n",
      "1\n"
     ]
    }
   ],
   "source": [
    "from heapq import heappush, heappop\n",
    "\n",
    "nums = [4, 1, 7, 3, 8, 5]\n",
    "heap = []\n",
    "\n",
    "for num in nums:\n",
    "  heappush(heap, (-num, num))  # (우선 순위, 값)\n",
    "\n",
    "while heap:\n",
    "  print(heappop(heap)[1])  # index 1"
   ]
  },
  {
   "cell_type": "markdown",
   "id": "5e803d50",
   "metadata": {},
   "source": [
    "### 힙에서 n번째 값 구하기\n",
    "\n",
    "- "
   ]
  },
  {
   "cell_type": "code",
   "execution_count": 9,
   "id": "9c97086b",
   "metadata": {},
   "outputs": [],
   "source": [
    "from heapq import heapify, heappop\n",
    "\n",
    "def nth_smallest(nums, n):\n",
    "    heapify(nums)\n",
    "\n",
    "    nth_min = None\n",
    "    for _ in range(n):\n",
    "        nth_min = heappop(nums)\n",
    "\n",
    "    return nth_min"
   ]
  },
  {
   "cell_type": "code",
   "execution_count": null,
   "id": "3f0e6d74",
   "metadata": {},
   "outputs": [],
   "source": []
  }
 ],
 "metadata": {
  "kernelspec": {
   "display_name": "Python 3 (ipykernel)",
   "language": "python",
   "name": "python3"
  },
  "language_info": {
   "codemirror_mode": {
    "name": "ipython",
    "version": 3
   },
   "file_extension": ".py",
   "mimetype": "text/x-python",
   "name": "python",
   "nbconvert_exporter": "python",
   "pygments_lexer": "ipython3",
   "version": "3.9.12"
  }
 },
 "nbformat": 4,
 "nbformat_minor": 5
}
